{
 "cells": [
  {
   "cell_type": "code",
   "execution_count": 1,
   "metadata": {},
   "outputs": [
    {
     "name": "stdout",
     "output_type": "stream",
     "text": [
      "\tTime out - https://www.bulario.com/benzac/\n"
     ]
    }
   ],
   "source": [
    "from bullama.bulario import Bulario, BularioType\n",
    "\n",
    "bulas_questions = Bulario(BularioType.Questions)\n",
    "bulas_questions.create_data()\n",
    "\n",
    "bulas_questions.save_csv(\"datasets/bulario_questions.csv\")"
   ]
  },
  {
   "cell_type": "code",
   "execution_count": 2,
   "metadata": {},
   "outputs": [
    {
     "name": "stdout",
     "output_type": "stream",
     "text": [
      "\tTime out - https://www.bulario.com/pulmicort/\n",
      "Erro: https://www.bulario.com/pulmicort/\n",
      "\tTime out - https://www.bulario.com/pulmozyme/\n",
      "Erro: https://www.bulario.com/pulmozyme/\n"
     ]
    }
   ],
   "source": [
    "bulas_plain_text = Bulario(BularioType.PlainText)\n",
    "bulas_plain_text.create_data()\n",
    "\n",
    "bulas_plain_text.save_csv(\"datasets/bulario_plain_text.csv\")"
   ]
  },
  {
   "cell_type": "code",
   "execution_count": 13,
   "metadata": {},
   "outputs": [],
   "source": [
    "import pandas as pd\n",
    "\n",
    "bulario_questions_df = pd.read_csv('datasets/bulario_questions.csv', delimiter=';')\n",
    "bulario_plaintext_df = pd.read_csv('datasets/bulario_plain_text.csv', delimiter=';')"
   ]
  },
  {
   "cell_type": "code",
   "execution_count": 14,
   "metadata": {},
   "outputs": [],
   "source": [
    "from bullama.gerar_perguntas import GeradorDePerguntasMedicamento\n",
    "\n",
    "gerador = GeradorDePerguntasMedicamento(bulario_questions_df)"
   ]
  },
  {
   "cell_type": "code",
   "execution_count": 15,
   "metadata": {},
   "outputs": [
    {
     "name": "stdout",
     "output_type": "stream",
     "text": [
      "<class 'pandas.core.frame.DataFrame'>\n",
      "RangeIndex: 7126 entries, 0 to 7125\n",
      "Data columns (total 3 columns):\n",
      " #   Column    Non-Null Count  Dtype \n",
      "---  ------    --------------  ----- \n",
      " 0   Nome      7126 non-null   object\n",
      " 1   Pergunta  7126 non-null   object\n",
      " 2   Resposta  7126 non-null   object\n",
      "dtypes: object(3)\n",
      "memory usage: 167.1+ KB\n"
     ]
    }
   ],
   "source": [
    "df_treino, df_teste = gerador.dividir_dataframe()\n",
    "\n",
    "df_treino.info()\n",
    "df_treino.to_csv('datasets/bulario_questions_treino.csv', sep=';', index=False)"
   ]
  },
  {
   "cell_type": "code",
   "execution_count": 16,
   "metadata": {},
   "outputs": [
    {
     "name": "stdout",
     "output_type": "stream",
     "text": [
      "<class 'pandas.core.frame.DataFrame'>\n",
      "Index: 713 entries, 6717 to 4912\n",
      "Data columns (total 3 columns):\n",
      " #   Column    Non-Null Count  Dtype \n",
      "---  ------    --------------  ----- \n",
      " 0   Nome      713 non-null    object\n",
      " 1   Pergunta  713 non-null    object\n",
      " 2   Resposta  713 non-null    object\n",
      "dtypes: object(3)\n",
      "memory usage: 22.3+ KB\n"
     ]
    }
   ],
   "source": [
    "df_teste.info()\n",
    "df_teste.to_csv('datasets/bulario_questions_teste.csv', sep=';', index=False)"
   ]
  },
  {
   "cell_type": "code",
   "execution_count": 17,
   "metadata": {},
   "outputs": [],
   "source": [
    "def generate_prompt(question, context, answer) -> str:\n",
    "    return f\"\"\"[INST] <<SYS>> Responda apenas o que for pedido, usando o contexto:<</SYS>>    \n",
    "    Context: {context.strip()}\n",
    "    Question: {question.strip()}[/INST]\n",
    "    Answer: {answer.strip()}\"\"\".strip()"
   ]
  },
  {
   "cell_type": "code",
   "execution_count": 18,
   "metadata": {},
   "outputs": [],
   "source": [
    "# Carregar os dataframes\n",
    "bulario_df = pd.read_csv('datasets/bulario_questions_treino.csv', delimiter=';')\n",
    "bulario_plaintext_df = pd.read_csv('datasets/bulario_plain_text.csv', delimiter=';')\n",
    "\n",
    "# Criar uma lista de prompts\n",
    "prompts = []\n",
    "\n",
    "for index, row in bulario_df.iterrows():\n",
    "# Iterar sobre as colunas do dataframe bulario_df\n",
    "    contexto = bulario_plaintext_df.loc[bulario_plaintext_df['Nome'] == bulario_df['Nome'][index], 'texto'].values[0]\n",
    "\n",
    "    prompt = generate_prompt(bulario_df['Pergunta'][index], contexto.replace('\\n',''), bulario_df['Resposta'][index])\n",
    "    prompts.append(prompt)\n",
    "\n",
    "# Criar um novo dataframe com a coluna 'text'\n",
    "prompts_df = pd.DataFrame({'text': prompts})\n",
    "\n",
    "# Salvar o dataframe em um arquivo CSV com delimitador ;\n",
    "prompts_df.to_csv('datasets/bulario_prompts_treino.csv', sep=';', index=False)"
   ]
  }
 ],
 "metadata": {
  "kernelspec": {
   "display_name": "py39",
   "language": "python",
   "name": "python3"
  },
  "language_info": {
   "codemirror_mode": {
    "name": "ipython",
    "version": 3
   },
   "file_extension": ".py",
   "mimetype": "text/x-python",
   "name": "python",
   "nbconvert_exporter": "python",
   "pygments_lexer": "ipython3",
   "version": "3.9.18"
  }
 },
 "nbformat": 4,
 "nbformat_minor": 2
}
