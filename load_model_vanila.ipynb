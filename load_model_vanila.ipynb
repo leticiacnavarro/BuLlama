{
 "cells": [
  {
   "cell_type": "code",
   "execution_count": 1,
   "metadata": {},
   "outputs": [],
   "source": [
    "model_dir = \"7b\""
   ]
  },
  {
   "cell_type": "code",
   "execution_count": 2,
   "metadata": {},
   "outputs": [
    {
     "data": {
      "application/vnd.jupyter.widget-view+json": {
       "model_id": "a9390fb9b5bd4f54a635df23e0993259",
       "version_major": 2,
       "version_minor": 0
      },
      "text/plain": [
       "Loading checkpoint shards:   0%|          | 0/2 [00:00<?, ?it/s]"
      ]
     },
     "metadata": {},
     "output_type": "display_data"
    },
    {
     "name": "stderr",
     "output_type": "stream",
     "text": [
      "/home/navarro/miniconda3/envs/py39/lib/python3.9/site-packages/transformers/utils/hub.py:374: FutureWarning: The `use_auth_token` argument is deprecated and will be removed in v5 of Transformers.\n",
      "  warnings.warn(\n"
     ]
    }
   ],
   "source": [
    "import bullama.util\n",
    "from bullama.util import create_model_tokenizer, LlamaPipeline\n",
    "from bullama.inference import QA_Llama\n",
    "\n",
    "model, tokenizer = create_model_tokenizer(model_dir, True, False)\n",
    "qa_llama = QA_Llama(model, tokenizer)"
   ]
  },
  {
   "cell_type": "code",
   "execution_count": 3,
   "metadata": {},
   "outputs": [
    {
     "name": "stdout",
     "output_type": "stream",
     "text": [
      " Ah, um novo amigo! *adjusts glasses* Neosaldina é uma das nossas novas tecnologias de aprendizado. É uma plataforma de aprendizado automático que nos permite criar modelos de aprendizado de máquina de alta qualidade, com resultados precisos e rápidos. *nods*\n",
      "\n",
      "Neosaldina utiliza uma abordagem de aprendizado de máquina baseada em rede neurais, que é uma das técnicas mais populares e eficazes de aprendizado automático. Ela é capaz de aprender de grandes conjuntos de dados e fazer predições precisas sobre novos dados. *smiles*\n",
      "\n",
      "Além disso, Neosaldina é muito fácil de usar, mesmo para os usuários com menos experiencia em aprendizado automático. Ela oferece uma interface intuitiva e fácil de usar, que permite que você crie e ajuste modelos de aprendizado de máquina com facilidade. *nods*\n",
      "\n",
      "Em resumo, Neosaldina é uma\n"
     ]
    }
   ],
   "source": [
    "qa_llama.make_question(\"O que é Neosaldina?\")"
   ]
  },
  {
   "cell_type": "code",
   "execution_count": 4,
   "metadata": {},
   "outputs": [
    {
     "name": "stdout",
     "output_type": "stream",
     "text": [
      " Sim, posso ajudar! O resultado de 1 + 1 é 2.\n"
     ]
    }
   ],
   "source": [
    "qa_llama.make_question(\"Quanto é 1 + 1?\")"
   ]
  },
  {
   "cell_type": "code",
   "execution_count": 5,
   "metadata": {},
   "outputs": [],
   "source": [
    "context = \"Neosaldina®  comprimido revestido e solução   - Bula para o profissional de saúde 2 em cefaleias primárias agudas permitiu a conclusão que a dipirona é efetiva no tratamento das crises de cefaleia tensionais e de enxaquecas, sem que se observe uma incidência importante de eventos adversos sérios nem de agranulocitose.2 O sinergismo da cafeína sobre os efeitos antinociceptivos da dipirona foram confirmados em um estudo com animais1 e em humanos3 tendo sido observado um início de ação mais rápido com a associação do que com a dipirona isolada3. A associação do isometepteno com analgésicos foi considerada melhor alternativa à ergotamina no tratamento de cefaleias vasculares.4 A eficácia da associação dipirona, isometepteno e cafeína (Neosaldina® – 2 comprimido revestido em dose única) foi avaliada por Klapetek5 em comparação com a combinação tartarato de ergotamina e cafeína (TEGK) e com placebo (doses únicas) em dois estudos clínicos duplo- cegos em 172 crises de enxaqueca. A Intensidade da Dor (ID), avaliada por uma escala de quatro pontos (3=muito forte; 0=ausente), apresentou redução no período de avaliação de duas horas com o uso das medicações ativas (Neosaldina® - ID0=1,86→ID120=0,78; TEGK - ID0=1,93→ID120=0,87; NS). A ação analgésica foi mais consistente e constante durante todo o período de avaliação com a Neosaldina® do que com o comparador ou com o placebo. Esse mesmo autor complementou o primeiro estudo em mais 40 pacientes confirmando um efeito analgésico da associação maior em relação ao tempo, quando comparado com o placebo.6 Um estudo randomizado comparou a eficácia da Neosaldina® com a da combinação di- hidroergotamina, cafeína, butalbital e aminofenazona e a do placebo em pacientes com enxaquecas e cefaleias. Os resultados mostraram eficácia similar com o uso das medicações ativas e superioridade significante em relação ao placebo.7 A eficácia, a tolerabilidade e a consistência da Neosaldina® na terapia de crises de cefaleia primária leve a moderada foram comparadas com as do paracetamol e as do placebo em um estudo, duplo-cego, randomizado e duplocruzado.8 Foram avaliadas 243 crises em 81 pacientes, havendo redução da dor em 72,5% com a Neosaldina® (dois comprimidos revestidos ), 54,5% com o paracetamol (1.000mg) e 49,2% com o placebo. A redução média da intensidade da dor foi maior com a Neosaldina® do que com o placebo e com o paracetamol (P<0,001; aos 90min/120 min). Menos pacientes necessitaram medicação de resgate com o uso da Neosaldina® (18,4%) do que com o paracetamol (37,7%; P=0,008) e o placebo (43,8%; P=0,0007). Não ocorreram eventos adversos graves. Referências bibliográficas: 1. Diaz-Reval MI et al. Cir Ciruj 2008; 76:241-6. 2. Ramacciotti AS, Soares BG, Atallah AN. Cochrane Database Syst Rev 2007;18(2):CD004842. 3. Carvalho DS, Rabello GD, Figueiró JAB. RBM – Rev Bras Med 2007;64(6):273-8. 4. Johnson DE. Clin Med 1970; 77:33-36. 5. Klapetek J. Med Welt 1973;24(18):745-7. 6. Klapetek J. Acta Universitatis Palackiananae Olomucensis 1974;74:249-57. 7. Forti F, Tannous P. Folha Med 1981;82(1):61-2. 8. Carvalho DS. Migrâneas e cefaléias 2009;12(2):78; T055. 3. CARACTERÍSTICAS FARMACOLÓGICAS Neosaldina® contém como princípios ativos dipirona, mucato de isometepteno e cafeína. A dipirona, um eficaz analgésico não-opioide, é uma pró-droga que possui, ainda, atividade antipirética e antitérmica intensamente investigada. É amplamente utilizado na clínica, tanto em uso isolado como combinado a outros medicamentos. O isometepteno é um simpaticomimético de ação indireta com atividade vasoconstritora, que apresenta ação analgésica própria e potencializadora de analgésicos. A cafeína é um derivado xantínico que possui discreta ação sobre o Sistema Nervoso Central e apresenta efeito vasoconstritor sobre as artérias cranianas, diminuindo o fluxo sanguíneo e a tensão do oxigênio no cérebro, podendo contribuir diretamente para o alívio de vários tipos de cefaleias, especialmente das enxaquecas, além de aumentar a potência dos analgésicos. Propriedades farmacodinâmicas - a dipirona ou metamizol, é um agente analgésico e antitérmico sintético extraído do alcatrão (anilina), pertencente ao grupo das pirazolonas. É uma pró-droga que após administração oral é rapidamente metabolizada, principalmente nos metabólitos ativos MAA (4- metilaminoantipirina) e 4-AA (4-amino-antipirina). Seu mecanismo de ação é multifatorial, incluindo ações sobre sistema nervoso periférico (prostaglandinas E1 e E2 e óxido nítrico) e central (por seu sinergismo peptidérgico [k], serotoninérgico [5HT1] e antagonismo glutaminérgico [NMDA]), como também em diferentes níveis de processamento da informação dolorosa. O efeito antinociceptivo periférico ocorre tanto por ativação dos canais de K+ sensíveis ao ATP e por inibição da ativação da adenilciclase por substâncias hiperalgésicas como por bloqueio direto do influxo de cálcio no\""
   ]
  },
  {
   "cell_type": "code",
   "execution_count": 6,
   "metadata": {},
   "outputs": [],
   "source": [
    "ctx = \"Bulário > Analgésicos > Bula de NeosaldinaNeosaldinaIndicaçãoPara que serve?Neosaldina é indicada para o tratamento de diversos tipos de dores de cabeça, como a dor de cabeça tensional ou enxaqueca e para o tratamento das cólicas, em adultos e crianças com mais de 12 anos de idade.Mecanismo de AçãoComo funciona?Neosaldina é um medicamento que em sua composição Cafeína, Dipirona e Mucato de Isometepteno, compostos com atividade analgésica e diminui os espasmos, aliviando assim diferentes tipos de dores de cabeça, enxaquecas e cólicas.Após a sua administração oral o efeito de Neosaldina ocorre 15 a 30 após a sua toma e prolonga-se por 4 a 6 horas.PosologiaComo usar?A dose recomendada de Neosaldina é de 1 a 2 comprimidos administrados de 6 em 6 horas, cerca de 4 vezes por dia.Os comprimidos de Neosaldina devem ser engolidos inteiros, juntamente com um copo de água, sem partir ou mastigar.Efeitos ColateraisQuais os males que pode me causar?Alguns dos efeitos colaterais de Neosaldina podem incluir reações de alergia na pele com vermelhidão, coceira ou urticária na pele, queda da pressão sanguínea, alterações das células do sangue, aumento de batimentos do coração, irritabilidade, febre alta, dificuldade de engolir, feridas na boca, nariz, garganta, genitais e anais.ContraindicaçõesQuando não devo usar?Neosaldina está contraindicada para pacientes com menos de 12 anos, pacientes com crises de pressão alta ou alteração nas qualidades do sangue, pacientes com doenças metabólicas, como porfiria ou a deficiência congênita da glicose-6-fosfato-desidrogenase e para pacientes com alergia a algum dos componentes da fórmula.Advertências e PrecauçõesO que devo saber antes de usar?Antes de usar Neosaldina, deverá falar com o seu médico se estiver grávida ou amamentando, tiver sensibilidade à cafeína, agitação ou aumento dos batimentos cardíacos, asma brônquica ou infecções respiratórias crônicas, tiver alergia a analgésicos ou a anti-inflamatórios, estiver com amigdalite ou com alguma infeção que afete a boca e a garganta, tiver diabetes ou problemas nos rins ou no fígado ou se estiver a tomar outros medicamentos, incluindo medicamentos sem receita médica.Neosaldina​ na forma de comprimidos não deve ser tomado por diabéticos pois contém açúcar, devendo nestes casos ser apenas administrada Neosaldina na forma de gotas sem açúcar.O tratamento com Neosaldina​ nunca deve ser interrompido sem conhecimento do seu médico e os horários, as doses e duração do tratamento devem ser rigorosamente respeitados.SuperdosagemO que fazer se alguém usar uma quantidade maior do que a indicada?Em caso de toma excessiva de Neosaldina, deve dirigir-se ao hospital mais próximo, levando a embalagem ou bula do medicamento.O que devo fazer quando eu me esquecer de usar este medicamento?Caso se esqueça de tomar uma dose de Neosaldina, deve tomar a dose esquecida logo que se lembre, porém, se já se encontrar muito próximo do horário da dose seguinte, deve ignorar a dose esquecida.ComposiçãoNeosaldina comprimidos por cada comprimido contém:Dipirona _____________________________________ 300 mgMucato de isometepteno _________________________ 30 mgCafeína anidra _________________________________ 30 mg(Excipientes: amido de milho, carbonato de cálcio, carmelose, celulose microcristalina, cera branca, cera de carnaúba, dióxido de silício, estearato de magnésio, goma arábica, lactose, metilparabeno, povidona, propilparabeno, sacarose, talco, dióxido de titânio, laca vermelha e pigmento marrom).Neosaldina gotas por cada 1 ml de solução oral contém:Dipirona _____________________________________ 300 mgMucato de isometepteno _________________________ 30 mgCafeína anidra _________________________________ 30 mg(Excipientes:água purificada, aroma de hortelã, benzoato de sódio, metabissulfito de sódio, sacarina sódica e sorbitol. Pode conter ácido clorídrico para ajuste de pH).Interações MedicamentosasNeosaldina não deve ser administrado em conjunto com alguns medicamentos ou substâncias sem orientação médica, como bebidas alcoólicas, medicamentos que contenham clorpromazina ou ciclosporina, ansiolíticos, benzodiazepínicos ou juntamente com antidepressivos inibidores da monoaminoxidase - IMAOs.Neosaldina dá sono?Não, Neosaldina não dá sono pois a sonolência não é um dos efeitos colaterais referidos na bula do remédio.Porem, Neosaldina pode causar queda da pressão sanguínea o que provocar cansaço, fraqueza e sonolência, sendo recomendado nestes casos que consulte o médico logo que possível.LaboratórioNycomed Pharma Ltda.- SAC: 0800-7710345 Outros remédios para o tratamento de dores de cabeça, além de Neosaldina, podem ser Alivium, Paracetamol ou Tylenol.Dizeres Legais:Ms: 1.0639.0231Farm. Resp.: Wagner Moi\""
   ]
  },
  {
   "cell_type": "code",
   "execution_count": 7,
   "metadata": {},
   "outputs": [
    {
     "name": "stdout",
     "output_type": "stream",
     "text": [
      " Based on the information provided in the text, Neosaldina is a medication that contains the active ingredients dipirona, isometepteno, and cafeína. It is used to treat various types of headaches, including tension headaches and migraines, and has been shown to be effective in reducing pain intensity and improving tolerability. Neosaldina is a combination of three substances that work together to provide analgesic and antitermal effects, with the dipirona serving as the main active ingredient.\n"
     ]
    }
   ],
   "source": [
    "qa_llama.make_question(\"O que é Neosaldina?\", context)"
   ]
  },
  {
   "cell_type": "code",
   "execution_count": 8,
   "metadata": {},
   "outputs": [
    {
     "name": "stdout",
     "output_type": "stream",
     "text": [
      " Neosaldina é um medicamento utilizado para tratar diferentes tipos de dores de cabeça, enxaquecas e cólicas em adultos e crianças com mais de 12 anos de idade. É composto por uma mistura de cafeína, dipirona e mucato de isometepteno, que trabalham juntos para aliviar os espasmos e diminuir a dor. Neosaldina é disponível em forma de comprimidos e gotas, e sua administração pode ser feita de 1 a 2 comprimidos de 6 em 6 horas, cerca de 4 vezes por dia. É importante seguir as doses e horários indicados na bula do remédio e consultar o médico antes de usar se tiver alguma condição médica subjacente ou se está tomando outros medicamentos.\n"
     ]
    }
   ],
   "source": [
    "qa_llama.make_question(\"O que é Neosaldina?\", ctx)"
   ]
  },
  {
   "cell_type": "code",
   "execution_count": 9,
   "metadata": {},
   "outputs": [
    {
     "name": "stdout",
     "output_type": "stream",
     "text": [
      " De acordo com a bula do remédio, Neosaldina não dá sono.\n"
     ]
    }
   ],
   "source": [
    "qa_llama.make_question(\"A Neosaldina dá sono?\", ctx)"
   ]
  },
  {
   "cell_type": "code",
   "execution_count": null,
   "metadata": {},
   "outputs": [],
   "source": [
    "context = \"Neosaldina é indicada para o tratamento de diversos tipos de dores de cabeça, como a dor de cabeça tensional ou enxaqueca e para o tratamento das cólicas, em adultos e crianças com mais de 12 anos de idade.\\nNeosaldina é um medicamento que em sua composição Cafeína, Dipirona e Mucato de Isometepteno, compostos com atividade analgésica e diminui os espasmos, aliviando assim diferentes tipos de dores de cabeça, enxaquecas e cólicas.\\n\\nApós a sua administração oral o efeito de Neosaldina ocorre 15 a 30 após a sua toma e prolonga-se por 4 a 6 horas.\\n\\n \\nA dose recomendada de Neosaldina é de 1 a 2 comprimidos administrados de 6 em 6 horas, cerca de 4 vezes por dia. \\n\\nOs comprimidos de Neosaldina devem ser engolidos inteiros, juntamente com um copo de água, sem partir ou mastigar.\\n\\n \\nAlguns dos efeitos colaterais de Neosaldina podem incluir reações de alergia na pele com vermelhidão, coceira ou urticária na pele, queda da pressão sanguínea, alterações das células do sangue, aumento de batimentos do coração, irritabilidade, febre alta, dificuldade de engolir, feridas na boca, nariz, garganta, genitais e anais.\\nNeosaldina está contraindicada para pacientes com menos de 12 anos, pacientes com crises de pressão alta ou alteração nas qualidades do sangue, pacientes com doenças metabólicas, como porfiria ou a deficiência congênita da glicose-6-fosfato-desidrogenase e para pacientes com alergia a algum dos componentes da fórmula. \\nAntes de usar Neosaldina, deverá falar com o seu médico se estiver grávida ou amamentando, tiver sensibilidade à cafeína, agitação ou aumento dos batimentos cardíacos, asma brônquica ou infecções respiratórias crônicas, tiver alergia a analgésicos ou a anti-inflamatórios, estiver com amigdalite ou com alguma infeção que afete a boca e a garganta, tiver diabetes ou problemas nos rins ou no fígado ou se estiver a tomar outros medicamentos, incluindo medicamentos sem receita médica.\\n\\nNeosaldina​ na forma de comprimidos não deve ser tomado por diabéticos pois contém açúcar, devendo nestes casos ser apenas administrada Neosaldina na forma de gotas sem açúcar. \\n\\nO tratamento com Neosaldina​ nunca deve ser interrompido sem conhecimento do seu médico e os horários, as doses e duração do tratamento devem ser rigorosamente respeitados.\\nEm caso de toma excessiva de Neosaldina, deve dirigir-se ao hospital mais próximo, levando a embalagem ou bula do medicamento. \\nCaso se esqueça de tomar uma dose de Neosaldina, deve tomar a dose esquecida logo que se lembre, porém, se já se encontrar muito próximo do horário da dose seguinte, deve ignorar a dose esquecida.\\nNeosaldina comprimidos por cada comprimido contém:\\n\\nDipirona  300 mg\\n\\nMucato de isometepteno  30 mg\\n\\nCafeína anidra  30 mg\\n\\n(Excipientes: amido de milho, carbonato de cálcio, carmelose, celulose microcristalina, cera branca, cera de carnaúba, dióxido de silício, estearato de magnésio, goma arábica, lactose, metilparabeno, povidona, propilparabeno, sacarose, talco, dióxido de titânio, laca vermelha e pigmento marrom).\\n\\nNeosaldina gotas por cada 1 ml de solução oral contém:\\n\\nDipirona  300 mg\\n\\nMucato de isometepteno  30 mg\\n\\nCafeína anidra  30 mg\\n\\n(Excipientes:água purificada, aroma de hortelã, benzoato de sódio, metabissulfito de sódio, sacarina sódica e sorbitol. Pode conter ácido clorídrico para ajuste de pH). \\nNeosaldina não deve ser administrado em conjunto com alguns medicamentos ou substâncias sem orientação médica, como bebidas alcoólicas, medicamentos que contenham clorpromazina ou ciclosporina, ansiolíticos, benzodiazepínicos ou juntamente com antidepressivos inibidores da monoaminoxidase - IMAOs. \\nNão, Neosaldina não dá sono pois a sonolência não é um dos efeitos colaterais referidos na bula do remédio. \\n\\nPorem, Neosaldina pode causar queda da pressão sanguínea o que provocar cansaço, fraqueza e sonolência, sendo recomendado nestes casos que consulte o médico logo que possível. \\nNycomed Pharma Ltda.- SAC: 0800-7710345 \\nOutros remédios para o tratamento de dores de cabeça, além de Neosaldina, podem ser Alivium, Paracetamol ou Tylenol.\\n\\nDizeres Legais:\\n\\nMs: 1.0639.0231\\nFarm. Resp.: Wagner Moi\""
   ]
  }
 ],
 "metadata": {
  "kernelspec": {
   "display_name": "py39",
   "language": "python",
   "name": "python3"
  },
  "language_info": {
   "codemirror_mode": {
    "name": "ipython",
    "version": 3
   },
   "file_extension": ".py",
   "mimetype": "text/x-python",
   "name": "python",
   "nbconvert_exporter": "python",
   "pygments_lexer": "ipython3",
   "version": "3.9.18"
  }
 },
 "nbformat": 4,
 "nbformat_minor": 2
}
