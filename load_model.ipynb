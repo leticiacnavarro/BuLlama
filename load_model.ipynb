{
 "cells": [
  {
   "cell_type": "code",
   "execution_count": 1,
   "metadata": {},
   "outputs": [],
   "source": [
    "model_dir = \"models/7b\""
   ]
  },
  {
   "cell_type": "code",
   "execution_count": 2,
   "metadata": {},
   "outputs": [
    {
     "data": {
      "application/vnd.jupyter.widget-view+json": {
       "model_id": "4df59aec87804e229164d196060bb2b6",
       "version_major": 2,
       "version_minor": 0
      },
      "text/plain": [
       "Loading checkpoint shards:   0%|          | 0/2 [00:00<?, ?it/s]"
      ]
     },
     "metadata": {},
     "output_type": "display_data"
    },
    {
     "name": "stderr",
     "output_type": "stream",
     "text": [
      "/home/navarro/miniconda3/envs/py39/lib/python3.9/site-packages/transformers/utils/hub.py:374: FutureWarning: The `use_auth_token` argument is deprecated and will be removed in v5 of Transformers.\n",
      "  warnings.warn(\n"
     ]
    }
   ],
   "source": [
    "import util\n",
    "from util import create_model_tokenizer, LlamaPipeline\n",
    "\n",
    "model, tokenizer = create_model_tokenizer(model_dir, True, True)"
   ]
  },
  {
   "cell_type": "code",
   "execution_count": 3,
   "metadata": {},
   "outputs": [],
   "source": [
    "import torch\n",
    "def summarize(model, text: str):\n",
    "    inputs = tokenizer(text, return_tensors=\"pt\").to(\"cuda\")\n",
    "    inputs_length = len(inputs[\"input_ids\"][0])\n",
    "    with torch.inference_mode():\n",
    "        outputs = model.generate(**inputs, max_new_tokens=256, temperature=0.0001)\n",
    "    return tokenizer.decode(outputs[0][inputs_length:], skip_special_tokens=True)\n",
    "\n",
    "def make_question(model, question: str):\n",
    "    question = generate_prompt_2(question)\n",
    "    summary = summarize(model, question)\n",
    "    print(summary)\n",
    "\n",
    "def generate_prompt_2(question) -> str:\n",
    "    return f\"\"\"[INST] <<SYS>> You are a helpful, respectful and honest assistant. Always answer as helpfully as possible, while being safe.  Your answers should not include any harmful, unethical, racist, sexist, toxic, dangerous, or illegal content. Please ensure that your responses are socially unbiased and positive in nature.\n",
    "If a question does not make any sense, or is not factually coherent, explain why instead of answering something not correct. If you don't know the answer to a question, please don't share false information.\n",
    "<</SYS>>\n",
    "\n",
    "{question.strip()}[/INST]\"\"\".strip()"
   ]
  },
  {
   "cell_type": "code",
   "execution_count": 4,
   "metadata": {},
   "outputs": [
    {
     "name": "stdout",
     "output_type": "stream",
     "text": [
      "\n",
      "\n",
      "O Lastacaft é um colírio indicado para o tratamento de irritações oculares causadas por gripes e para alívio de dor ocular causada por irritantes substâncias como o ácido acetilsalicílico. Além disso, o Lastacaft é também indicado para o tratamento de irritações oculares causadas por gripes e pós-operatório. Além disso, o Lastacaft é indicado para o tratamento de irritações oculares causadas por gripes e pós-operatório. Além disso, o Lastacaft é indicado para o tratamento de irritações oculares causadas por gripes e pós-operatório. Além disso, é indicado para o tratamento de irritações oculares causadas por gripes e pós-operatório. Além disso, este colírio é indicado para o tratamento de infecções oculares causadas por bactérias sensíveis à LASTACAFT. Além disso, o Lastacaft é\n"
     ]
    }
   ],
   "source": [
    "make_question(model, \"Para que serve a Lastacaft?\")"
   ]
  },
  {
   "cell_type": "code",
   "execution_count": 5,
   "metadata": {},
   "outputs": [
    {
     "name": "stdout",
     "output_type": "stream",
     "text": [
      "\n",
      "\n",
      "O Lastacaft é um colírio antialérgico, que tem na sua composição hidroxetiazida de alumínio e ácido fólico, compostos com propriedades antibacterianas, que atuam contra micro-organismos sensíveis. O colírio atua contra os vírus da varicela zika, que são as únicas infecções causadas por este vírus. O colírio atua contra os vírus da varicela zika, que é o vírus da varicela zika, que causa uma doença grave. O colírio atua contra o vírus da varicela zika, que é uma doença que afeta os nervos e que causará a dor de cabeça. O colírio atua contra o vírus da varicela zika, que é uma infecção causada por uma bactéria, que é a causadora da varicela zika. Este medicamento é usado para prevenir a ocorrência de infecções por fungos. O colírio é usado para\n"
     ]
    }
   ],
   "source": [
    "make_question(model, \"Lastacaft é o que?\")"
   ]
  },
  {
   "cell_type": "code",
   "execution_count": 6,
   "metadata": {},
   "outputs": [
    {
     "name": "stdout",
     "output_type": "stream",
     "text": [
      "\n",
      "\n",
      "O uso prolongado do colírio pode resultar em irritação ocular. Em casos isolados, podem ocorrer irritações oculares leves, que desaparecem com a interrupção do tratamento. Caso isto ocorra, deve-se consultar o médico. O uso prolongado do colírio pode resultar em córnea transparente, que pode ser transposta por meio de cataracte. Pode ocorrer irritação ocular. O uso prolongado do colírio pode resultar em córnea transparente. Se ocorrer irritação ocular, deve-se interromper o tratamento. Se ocorrer irritação ocular, deve-se interromper o tratamento. Se ocorrer irritação ocular, deve-se interromper o tratamento. Se ocorrer irritação ocular, deve-se interromper o tratamento. Se ocorrer irritação ocular, deve-se interromper o tratamento. Se ocorrer irritação ocular, deve-se interromper o tratamento. Se ocor\n"
     ]
    }
   ],
   "source": [
    "make_question(model, \"Qual colírio é bom para coceira nos olhos?\")"
   ]
  },
  {
   "cell_type": "code",
   "execution_count": 7,
   "metadata": {},
   "outputs": [
    {
     "name": "stdout",
     "output_type": "stream",
     "text": [
      "\n",
      "\n",
      "O uso prolongado do colírio pode resultar em irritação ocular, que desaparece com a parada do fluxo nasal. Caso isto aconteça, deve-se interromper o uso do colírio e consultar o médico. Se ocorrer irritação ocular, deve-se interromper o uso do colírio. Se ocorrer irritação ocular, deve-se interromper o uso do colírio. Se ocorrer irritação ocular, deve-se interromper o uso do colírio. Se ocorrer irritação ocular, deve-se interromper o uso do colírio. Se ocorrer irritação ocular, deve-se interromper o uso do colírio. Se ocorrer irritação ocular, deve-se interromper o uso do colírio. Se ocorrer irritação ocular, deve-se interromper o uso do colírio. Se ocorrer irritação ocular, deve-se interromper o uso do colírio. Se ocorrer irritação ocular,\n"
     ]
    }
   ],
   "source": [
    "make_question(model, \"Qual colírio é bom para coceira nos olhos?\")"
   ]
  },
  {
   "cell_type": "code",
   "execution_count": 8,
   "metadata": {},
   "outputs": [
    {
     "name": "stdout",
     "output_type": "stream",
     "text": [
      "\n",
      "\n",
      "O produto não tem acompanhamento médico. Em caso de uso de mais de 100 g de medicamento, deve-se consultar o médico. Em caso de uso de mais de 100 g de medicamento, deve-se consultar o médico. Em caso de ingestão de grande quantidade deste medicamento, procure rapidamente socorro médico e leve a embalagem ou bula do medicamento, se possível. Ligue para 0800 722 6001, se você precisar de mais orientações. Se você for inala uma grande quantidade deste medicamento, procure orientação médica ou um especialista. Não se conhece antídoto específico. Não tome medicamento sem o conhecimento do seu médico. Este medicamento não deve ser administrado a crianças. Se você tomar uma grande quantidade deste medicamento, procure rapidamente socorro médico e leve a embalagem ou bula do medicamento, se possível. Ligue para 0800 722 600\n"
     ]
    }
   ],
   "source": [
    "make_question(model, \"Me fale três filmes de animação.\")"
   ]
  },
  {
   "cell_type": "code",
   "execution_count": 9,
   "metadata": {},
   "outputs": [
    {
     "name": "stdout",
     "output_type": "stream",
     "text": [
      "\n",
      "\n",
      "Conservar em temperatura ambiente (entre 15 e 30 ºC). Proteger da umidade. O prazo de validade é de 24 meses a partir da data de fabricação. Número de lote e datas de fabricação e validade: vide embalagem. Não use medicamento com o prazo de validade vencido. Guarde-o em sua embalagem original. Não use medicamento com o prazo de validade vencido.  Guarde-o em sua embalagem original. Antes de usar observe o aspecto do medicamento.TODO MEDICAMENTO DEVE SER MANTIDO FORA DO ALCANCE DAS CRIANÇAS.  ANTES DE USAR OBSERVE O MÉDICO.TODO MEDICAMENTO DEVE SER MANTIDO FORA DO ALCANCE DAS CRIANÇAS.  SEU MEDICAMENTO É PARA O MENOR DE 15 ANOS.  O MEDICAMENTO DEVE SER MANTIDO FORA\n"
     ]
    }
   ],
   "source": [
    "make_question(model, \"Onde como e por quanto tempo posso guardar lastacaft?\")"
   ]
  },
  {
   "cell_type": "code",
   "execution_count": 10,
   "metadata": {},
   "outputs": [
    {
     "name": "stdout",
     "output_type": "stream",
     "text": [
      "\n",
      "\n",
      "Lembre-se de que a temperatura varia entre 15 e 30ºC. Não use medicamento com prazo de validade vencido. Antes de usar observe o aspecto do medicamento. Antes de usar observe o aspecto do medicamento. Se o prazo de validade estiver vencido, não use o medicamento. Antes de usar o medicamento, verifique o prazo de validade. Este é um medicamento para uso exclusivamente externo. Não use medicamento com prazo de validade vencido. Antes de usar observe o aspecto do medicamento. Antes de usar observe o aspecto do medicamento. Este medicamento não deve ser utilizado por crianças menores de 12 anos. Este medicamento não deve ser utilizado por crianças menores de 12 anos. O prazo de validade é de 24 meses a partir da data de fabricação. Não use medicamento com prazo de validade vencido. Antes de usar o medicamento, observe o aspecto do medicamento. Caso você observe algum aspecto desagradável,\n"
     ]
    }
   ],
   "source": [
    "make_question(model, \"Qual a temperatura em fahrenheit que deve ser armazenado o lastacaft?\")"
   ]
  },
  {
   "cell_type": "code",
   "execution_count": 11,
   "metadata": {},
   "outputs": [
    {
     "name": "stdout",
     "output_type": "stream",
     "text": [
      "\n",
      "\n",
      "O Lastacaft é um colírio antialérgico que tem na sua composição a substância ativa cloridrato de levocetirizina, que é um antialérgico que atua no sistema nervoso central, inibindo a ação da enzima que faz que a acometem os vasos sanguíneos. Assim, o Lastacaft é um remédio que pode ser usado para tratar a pressão baixa. O Lastacaft é um remédio que pode ser usado diariamente, de manhã e à noite. O tratamento com Lastacaft é, portanto, recomendado apenas para pacientes que estejam fazendo tratamento com cloridrato de levocetirizina. O tratamento com Lastacaft é recomendado somente para pacientes que estejam a fazer tratamento com cloridrato de levocetirizina. O tratamento com Lastacaft é recomendado apenas para pacientes que estejam a fazer tratamento com cloridrato de levocetirizina. O\n"
     ]
    }
   ],
   "source": [
    "make_question(model, \"Qual a validade do Lastacaft?\")"
   ]
  },
  {
   "cell_type": "code",
   "execution_count": 12,
   "metadata": {},
   "outputs": [
    {
     "name": "stdout",
     "output_type": "stream",
     "text": [
      "\n",
      "\n",
      "Neosaldina é indicada para o tratamento da dor e da febre, em adultos. Além disso, Neosaldina também é indicada para o tratamento da dor associada a processos inflamatórios, como: artrite reumatoide, osteoartrite, osteoartrite, osteoartrite, osteoartrite, osteoartrite, osteoartrite, osteoartrite, osteoartrite, osteoartrite, osteoartrite, osteoartrite, osteoartrite, osteoartrite, osteoartrite, osteoartrite, osteoartrite, osteoartrite, osteoartrite, osteoartrite, osteoartrite, osteoartrite, osteoartrite, osteoartrite, osteoartrite, osteoartrite, osteoartrite, osteoartrite, osteoartrite, osteoartrite, osteoartrite, osteoartrite, osteoartrite, o\n"
     ]
    }
   ],
   "source": [
    "make_question(model, \"Para que serve Neosaldina?\")"
   ]
  },
  {
   "cell_type": "code",
   "execution_count": 13,
   "metadata": {},
   "outputs": [
    {
     "name": "stdout",
     "output_type": "stream",
     "text": [
      "\n",
      "\n",
      "Histamin ( Histamin) é indicado para alívio das manifestações alérgicas, tais como: coceira, vermelhidão, inchaço e inchaço nas mucosas da garganta, nas fezes e na garganta. Além disso, também é indicado para alívio da tosse, congestão nasal e rinofaringite.  Histamin (Histamin) também é indicado para o tratamento de reações de alergia, tais como: urticária, rinites e conjuntivite.  Histamin (Histamin) também é indicado para o tratamento de reações de alergia na pele, como: coceira, vermelhidão, urticária, urticária e outras reações alérgicas.  Histamin ( HISTAMIN) também é indicado para o tratamento de reações de alergia, tais como: urticária, coceira, urticária, prurido, rinite, urticária, rinite, urticária, u\n"
     ]
    }
   ],
   "source": [
    "make_question(model, \"Para que serve Histamin?\")"
   ]
  },
  {
   "cell_type": "code",
   "execution_count": 14,
   "metadata": {},
   "outputs": [
    {
     "name": "stdout",
     "output_type": "stream",
     "text": [
      "\n",
      "\n",
      "Adultos: 2 a 3 cápsulas ao dia. Crianças: 1 a 2 cápsulas ao dia. Crianças de 3 a 6 anos: 1 a 2 cápsulas ao dia. Crianças de 6 a 12 anos: 1 a 2 cápsulas ao dia. Crianças de 6 a 12 anos: 1 a 2 cápsulas ao dia. Crianças de 3 a 6 anos: 1 a 2 cápsulas ao dia. Crianças de 6 a 12 anos: 1 a 2 cápsulas ao dia. Crianças de 6 a 12 anos: 1 a 2 cápsulas ao dia. Crianças de 3 a 6 anos: 1 a 2 cápsulas ao dia. Crianças de 6 a 12 anos: 1 a 2 cápsulas ao dia. Crianças de 6 a 12 anos: 1 a 2 cápsulas ao dia. Crianças de 6 a 1\n"
     ]
    }
   ],
   "source": [
    "make_question(model, \"Como usar Histamin?\")"
   ]
  },
  {
   "cell_type": "code",
   "execution_count": 15,
   "metadata": {},
   "outputs": [
    {
     "name": "stdout",
     "output_type": "stream",
     "text": [
      "\n",
      "\n",
      "Hipersensibilidade aos componentes da fórmula. Gravidez e lactação. Pessoas com idade inferior a 18 anos. O uso de Tranxilene em crianças com menos de 12 anos de idade deve ser feito sob orientação médica. Gravidez e lactação. Gravidez e lactação. Gravidez e lactação. Gravidez e lactação. Gravidez e lactação. Gravidez e lactação. Gravidez e lactação. Gravidez e lactação. Gravidez e lactação. Gravidez e lactação. Gravidez e lactação. Gravidez e lactação. Gravidez e lactação. Gravidez e lactação. Gravidez e lactação. Gravidez e lactação. Gravidez e lactação. Gravidez e lactação. Gravidez e lactação. Gravidez e lactação. Gravidez e\n"
     ]
    }
   ],
   "source": [
    "make_question(model, \"Quando não devo usar Tranxilene?\")"
   ]
  },
  {
   "cell_type": "code",
   "execution_count": 16,
   "metadata": {},
   "outputs": [
    {
     "name": "stdout",
     "output_type": "stream",
     "text": [
      "\n",
      "\n",
      "A dose recomendada de 1 comprimido de 10 mg, 2 vezes ao dia, durante 10 dias, não excedendo a dose máxima de 20 mg por dia. O tratamento deve ser iniciado com 1 comprimido de 5 mg por dia, e o tratamento deve ser continuado por 2 semanas. A dose de 1 comprimido de 10 mg por dia, e o tratamento deve ser ajustado de acordo com a resposta do paciente. A dose máxima diária de 10 mg por dia é de 10 mg por dia. A duração do tratamento deve ser estabelecida pelo médico, de acordo com a gravidade dos sintomas e a resposta do paciente. O tratamento deve ser iniciado com 10 mg por dia e o tratamento deve ser continuado por 2 semanas. A dose máxima diária é de 10 mg por dia. A duração do tratamento deve ser estabelecida pelo médico. O tratamento deve ser iniciado no\n"
     ]
    }
   ],
   "source": [
    "make_question(model, \"Quanto é 1 + 1?\")"
   ]
  },
  {
   "cell_type": "code",
   "execution_count": 17,
   "metadata": {},
   "outputs": [
    {
     "name": "stdout",
     "output_type": "stream",
     "text": [
      "\n",
      "\n",
      "Dorflex é um medicamento indicado para o tratamento de artrose ou osteoartrite, em adultos. Além disso, também é indicado para o tratamento de doenças degenerativas do joelho, em casos de doenças degenerativas do colo do joelho. O tratamento com Dorflex é também indicado para o tratamento de doenças degenerativas do colo do joelho, em casos de doenças degenerativas do colo do joelho. O tratamento com Dorflex é também indicado para o tratamento de doenças degenerativas do colo do joelho, em casos de doenças degenerativas do colo do joelho e do trato geniturinário. O tratamento com Dorflex é também indicado para o tratamento de doenças degenerativas do colo do joelho e do tórax. O tratamento com Dorflex é também indicado para o tratamento de doenças do colo do joelho e do trato urinário. O tratamento com Dorflex é indicado para o tratamento de doen\n"
     ]
    }
   ],
   "source": [
    "make_question(model, \"Dorflex?\")"
   ]
  },
  {
   "cell_type": "code",
   "execution_count": 18,
   "metadata": {},
   "outputs": [
    {
     "name": "stdout",
     "output_type": "stream",
     "text": [
      "\n",
      "\n",
      "Neosaldina é um medicamento indicado para o tratamento da dor e da febre, em adultos. Pode ser administrada também por via intravenosa. É um medicamento sem receita médica. É um medicamento sem receita médica. É um medicamento sem efeito sedativo, que pode ser administrado por via intravenosa. É um medicamento sem receita médica, que apenas deve ser administrado por um médico ou enfermeiro. O efeito do medicamento é de curta duração, podendo ser suspenso ou reduzido a critério médico. O efeito do medicamento é mais pronunciado em pacientes idosos, pois os pacientes podem ter uma maior sensibilidade à droga. O efeito do medicamento é maior em crianças. A dose recomendada é de 0,5 mg/kg/dia, administrada por via intravenosa. A dose recomendada é de 0,5 mg/kg/dia, administrado por via intravenosa. A dose recomendada é de 0,\n"
     ]
    }
   ],
   "source": [
    "make_question(model, \"Neosaldina?\")"
   ]
  }
 ],
 "metadata": {
  "kernelspec": {
   "display_name": "py39",
   "language": "python",
   "name": "python3"
  },
  "language_info": {
   "codemirror_mode": {
    "name": "ipython",
    "version": 3
   },
   "file_extension": ".py",
   "mimetype": "text/x-python",
   "name": "python",
   "nbconvert_exporter": "python",
   "pygments_lexer": "ipython3",
   "version": "3.9.18"
  }
 },
 "nbformat": 4,
 "nbformat_minor": 2
}
