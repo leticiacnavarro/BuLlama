{
 "cells": [
  {
   "cell_type": "code",
   "execution_count": 1,
   "metadata": {},
   "outputs": [],
   "source": [
    "model_dir = \"models/plaintext_teste/\""
   ]
  },
  {
   "cell_type": "code",
   "execution_count": 2,
   "metadata": {},
   "outputs": [
    {
     "data": {
      "application/vnd.jupyter.widget-view+json": {
       "model_id": "10cdb16bb5f340cf92bad8f1c2a65147",
       "version_major": 2,
       "version_minor": 0
      },
      "text/plain": [
       "Loading checkpoint shards:   0%|          | 0/2 [00:00<?, ?it/s]"
      ]
     },
     "metadata": {},
     "output_type": "display_data"
    },
    {
     "name": "stderr",
     "output_type": "stream",
     "text": [
      "/home/navarro/miniconda3/envs/py39/lib/python3.9/site-packages/transformers/utils/hub.py:374: FutureWarning: The `use_auth_token` argument is deprecated and will be removed in v5 of Transformers.\n",
      "  warnings.warn(\n"
     ]
    }
   ],
   "source": [
    "import bullama.util\n",
    "from bullama.util import create_model_tokenizer, LlamaPipeline\n",
    "from bullama.inference import QA_Llama\n",
    "\n",
    "model, tokenizer = create_model_tokenizer(model_dir, True, True)\n",
    "qa_llama = QA_Llama(model, tokenizer)"
   ]
  },
  {
   "cell_type": "code",
   "execution_count": 7,
   "metadata": {},
   "outputs": [
    {
     "data": {
      "text/plain": [
       "' Neosaldina é um medicamento indicado para o tratamento de alergias, coceira, vermelhidão, inchaço e urticária na pele.  Para o tratamento de inchaço e urticária, Neosaldina deve ser aplicada diretamente na pele, em quantidade suficiente para cobrir toda a área afetada, 3 a 4 vezes por dia. Para o tratamento de coceira e vermelhidão, Neosaldina deve ser aplicada diretamente na pele, em quantidade suficiente para cobrir toda a área afetada, 2 vezes por dia. Para o tratamento de alergia, Neosaldina deve ser aplicada diretamente na pele, em quantidade suficiente para cobrir toda a área afetada, 1 vez por dia.  Para o tratamento de inchaço, Neosaldina deve ser aplicada diretamente na pele, em quantidade suficiente para cobrir toda a área afetada, 1 vez por dia.  Para o tratamento de u'"
      ]
     },
     "execution_count": 7,
     "metadata": {},
     "output_type": "execute_result"
    }
   ],
   "source": [
    "qa_llama.make_question(\"Para que serve a Neosaldina?\")"
   ]
  },
  {
   "cell_type": "code",
   "execution_count": 4,
   "metadata": {},
   "outputs": [
    {
     "data": {
      "text/plain": [
       "' O Neosoro é um suplemento alimentar que auxilia no tratamento de doenças crônicas e em casos de desnutrição.  A ingestão de Neosoro deve ser feita em jejum, 30 minutos antes das refeições. A dose recomendada é de 1 sachê por dia, que equivale a 10 g de pó. A dose máxima diária é de 2 sachês, que equivale a 20 g de pó. A bula do medicamento não refere efeitos colaterais. A bula do medicamento não refere contraindicações.O Neosoro não deve ser usado em pessoas com alergia a qualquer componente da fórmula. Este suplemento não deve ser usado por pessoas com doenças graves, como porfiria, deficiência congênita da glicose-6-fosfato-desidrogenase, hiperfosfatemia e insuficiência renal. Este suplemento não deve ser usado por mulheres grávid'"
      ]
     },
     "execution_count": 4,
     "metadata": {},
     "output_type": "execute_result"
    }
   ],
   "source": [
    "qa_llama.make_question(\"Como que funciona o Neosoro?\")"
   ]
  },
  {
   "cell_type": "code",
   "execution_count": 5,
   "metadata": {},
   "outputs": [
    {
     "data": {
      "text/plain": [
       "' Two times three is equal to 6.'"
      ]
     },
     "execution_count": 5,
     "metadata": {},
     "output_type": "execute_result"
    }
   ],
   "source": [
    "qa_llama.make_question(\"Quanto é 2 x 3?\")"
   ]
  },
  {
   "cell_type": "code",
   "execution_count": 6,
   "metadata": {},
   "outputs": [
    {
     "data": {
      "text/plain": [
       "' A neosaldina tem como princípio ativo o diclofenaco sódico, um composto com propriedades analgésicas, antipiréticas e anti-inflamatórias. Este composto atua inibindo a síntese de prostaglandinas, diminuindo a dor, a febre e a inflamação.  A neosaldina é indicada para o tratamento de diversas condições, tais como:\\tDor e inflamação nas costas;\\tDor e inflamação nas articulações;\\tDor e inflamação nas extremidades;\\tDor e inflamação pós-traumática;\\tDor e inflamação pós-operatória;\\tDor e inflamação pós-cirúrgica;\\tDor e inflamação em ginecologia;\\tDor e inflamação em ortopedia e traumatologia;\\tDor e inflamação em urologia;\\tDor e inflamação em odontologia;\\tDor e inflamação em gastrenterologia e hemorragias.A'"
      ]
     },
     "execution_count": 6,
     "metadata": {},
     "output_type": "execute_result"
    }
   ],
   "source": [
    "qa_llama.make_question(\"Qual o principio ativo da neosaldina?\")"
   ]
  }
 ],
 "metadata": {
  "kernelspec": {
   "display_name": "py39",
   "language": "python",
   "name": "python3"
  },
  "language_info": {
   "codemirror_mode": {
    "name": "ipython",
    "version": 3
   },
   "file_extension": ".py",
   "mimetype": "text/x-python",
   "name": "python",
   "nbconvert_exporter": "python",
   "pygments_lexer": "ipython3",
   "version": "3.9.18"
  }
 },
 "nbformat": 4,
 "nbformat_minor": 2
}
