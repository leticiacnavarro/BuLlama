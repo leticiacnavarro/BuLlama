{
 "cells": [
  {
   "cell_type": "code",
   "execution_count": 1,
   "metadata": {},
   "outputs": [],
   "source": [
    "model_dir = \"models/7b\""
   ]
  },
  {
   "cell_type": "code",
   "execution_count": 2,
   "metadata": {},
   "outputs": [
    {
     "data": {
      "application/vnd.jupyter.widget-view+json": {
       "model_id": "ec6e66de1a0f4f2982a4575a9c3fa769",
       "version_major": 2,
       "version_minor": 0
      },
      "text/plain": [
       "Loading checkpoint shards:   0%|          | 0/2 [00:00<?, ?it/s]"
      ]
     },
     "metadata": {},
     "output_type": "display_data"
    },
    {
     "name": "stderr",
     "output_type": "stream",
     "text": [
      "/home/navarro/miniconda3/envs/py39/lib/python3.9/site-packages/transformers/utils/hub.py:374: FutureWarning: The `use_auth_token` argument is deprecated and will be removed in v5 of Transformers.\n",
      "  warnings.warn(\n"
     ]
    }
   ],
   "source": [
    "import util\n",
    "from util import create_model_tokenizer, LlamaPipeline\n",
    "\n",
    "model, tokenizer = create_model_tokenizer(model_dir, True, True)"
   ]
  },
  {
   "cell_type": "code",
   "execution_count": 3,
   "metadata": {},
   "outputs": [],
   "source": [
    "import torch\n",
    "def summarize(model, text: str):\n",
    "    inputs = tokenizer(text, return_tensors=\"pt\").to(\"cuda\")\n",
    "    inputs_length = len(inputs[\"input_ids\"][0])\n",
    "    with torch.inference_mode():\n",
    "        outputs = model.generate(**inputs, max_new_tokens=256, temperature=0.0001)\n",
    "    return tokenizer.decode(outputs[0][inputs_length:], skip_special_tokens=True)\n",
    "\n",
    "def make_question(model, question: str):\n",
    "    question = generate_prompt_2(question)\n",
    "    summary = summarize(model, question)\n",
    "    print(summary)\n",
    "\n",
    "def generate_prompt_2(question) -> str:\n",
    "    return f\"\"\"[INST] <<SYS>> You are a helpful, respectful and honest assistant. Always answer as helpfully as possible, while being safe.  Your answers should not include any harmful, unethical, racist, sexist, toxic, dangerous, or illegal content. Please ensure that your responses are socially unbiased and positive in nature.\n",
    "If a question does not make any sense, or is not factually coherent, explain why instead of answering something not correct. If you don't know the answer to a question, please don't share false information.\n",
    "<</SYS>>\n",
    "\n",
    "{question.strip()}[/INST]\"\"\".strip()"
   ]
  },
  {
   "cell_type": "code",
   "execution_count": 4,
   "metadata": {},
   "outputs": [
    {
     "name": "stdout",
     "output_type": "stream",
     "text": [
      "\n",
      "\n",
      "O Lastacaft é um colírio indicado para o tratamento e prevenção da coceira nos olhos. Além disso, também pode ser usado no tratamento de irritações oculares causadas por gritos, poiscos de lentes de contato, lentes de contato, lentes de contato, lentes de contato, lentes de contato, lentes de contato, lentes de contato, lentes de contato, lentes de contato, lentes de contato, lentes de contato, lentes de contato, lentes de contato, lentes de contato, lentes de contato, lentes de contato, lentes de contato, lentes de contato, lentes de contato, lentes de contato, lentes de contato, lentes de contato, lentes de contato, lentes de contato, lentes de contato, lentes de contato, lentes de contato, lentes de contato, lentes de contato, lentes de contato, lentes de contato, lentes de contato, lentes de cont\n"
     ]
    }
   ],
   "source": [
    "make_question(model, \"Para que serve a Lastacaft?\")"
   ]
  },
  {
   "cell_type": "code",
   "execution_count": 5,
   "metadata": {},
   "outputs": [
    {
     "name": "stdout",
     "output_type": "stream",
     "text": [
      "\n",
      "\n",
      "O Lastacaft é um colírio indicado para o tratamento de acomodação dos olhos secos, que podem estar associados a irritações oculares. O colírio também pode ser usado para o tratamento de irritações oculares causadas por irritações oculares. O colírio é indicado para o tratamento de irritações oculares causadas por irritações oculares causadas por raios UVA e UVB. O colírio também pode ser usado para o tratamento de irritações oculares causadas por raios UVA e UVB. O colírio não deve ser usado por mulheres grávidas ou que estejam a amamentar. O colírio não deve ser usado por mulheres grávidas ou que estejam a amamentar. O colírio não deve ser usado por mulheres grávidas sem orientação médica. Este produto não é indicado para crianças menores de 1 ano de idade. Este produto não é indicado para uso por mulheres grávidas\n"
     ]
    }
   ],
   "source": [
    "make_question(model, \"Lastacaft é o que?\")"
   ]
  },
  {
   "cell_type": "code",
   "execution_count": 6,
   "metadata": {},
   "outputs": [
    {
     "name": "stdout",
     "output_type": "stream",
     "text": [
      "\n",
      "\n",
      "O uso prolongado do colírio pode causar irritação ocular. Em caso de insuficiência ocular, deve-se interromper o uso do produto. Em caso de insuficiência ocular, deve-se suspender o uso do produto. Se ocorrer irritação ocular, deve-se interromper o uso do colírio. Se ocorrer irritação ocular, deve-se interromper o uso do produto. Se ocorrer irritação ocular, deve-se interromper o uso do produto. Se ocorrer irritação ocular, deve-se interromper o uso do colírio. Se ocorrer irritação ocular, deve-se interromper o uso do colírio. Se ocorrer irritação ocular, deve-se interromper o uso do colírio. Se ocorrer irritação ocular, deve-se interromper o uso do colírio. Se ocorrer irritação ocular, deve-se interromper o uso do colírio. Se ocorrer irritação ocular, deve-\n"
     ]
    }
   ],
   "source": [
    "make_question(model, \"Qual colírio é bom para coceira nos olhos?\")"
   ]
  },
  {
   "cell_type": "code",
   "execution_count": 7,
   "metadata": {},
   "outputs": [
    {
     "name": "stdout",
     "output_type": "stream",
     "text": [
      "\n",
      "\n",
      "O uso prolongado do colírio pode resultar em irritação ocular, que desaparece com a interrupção do tratamento. Em caso de irritação ocular, deve-se interromper o uso do produto. Se ocorrer irritação ocular, deve-se interromper o uso do colírio. Se ocorrer irritação ocular, deve-se interromper o uso do colírio. Se ocorrer irritação ocular, deve-se interromper o uso do colírio. Se ocorrer irritação ocular, deve-se interromper o uso do colírio. Se ocorrer irritação ocular, deve-se interromper o uso do colírio. Se ocorrer irritação ocular, deve-se interromper o uso do colírio. Se ocorrer irritação ocular, deve-se interromper o uso do colírio. Se ocorrer irritação ocular, deve-se interromper o uso do colírio. Se ocorrer irritação ocular, deve-se interromper o\n"
     ]
    }
   ],
   "source": [
    "make_question(model, \"Qual colírio é bom para coceira nos olhos?\")"
   ]
  },
  {
   "cell_type": "code",
   "execution_count": 8,
   "metadata": {},
   "outputs": [
    {
     "name": "stdout",
     "output_type": "stream",
     "text": [
      "\n",
      "\n",
      "O filme \"O Pátrô - O Pátrô - O Pátrô - O Pátrô - O Pátrô - O Pátrô - O Pátrô - O Pátrô - O Pátrô - O Pátrô - O Pátrô - O Pátrô - O Pátrô - O Pátrô - O Pátrô - O Pátrô - O Pátrô - O Pátrô - O Pé de Pátrô - O Pé de Pé de Pé de Pé de Pé de Pé de Pé de Pé de Pé de Pé de Pé de Pé de Pé de Pé de Pé de Pé de Pé de Pé de Pé de Pé de Pé de Pé de Pé de Pé de Pé de Pé de Pé de Pé de Pé de Pé de Pé de Pé de Pé de Pé de Pé de Pé de Pé de Pé de Pé de Pé de Pé de Pé de Pé de Pé de P\n"
     ]
    }
   ],
   "source": [
    "make_question(model, \"Me fale três filmes de animação.\")"
   ]
  },
  {
   "cell_type": "code",
   "execution_count": 9,
   "metadata": {},
   "outputs": [
    {
     "name": "stdout",
     "output_type": "stream",
     "text": [
      "\n",
      "\n",
      "Conservar em temperatura ambiente (entre 15 e 30ºC). Proteger da umidade.O prazo de validade é de 24 meses a partir da data de fabricação impressa na embalagem externa. Não utilize medicamento com prazo de validade vencido.TODO MEDICAMENTO DEVE SER MANTIDO FORA DO ALCANCE DAS CRIANÇAS. NÃO DESAPARECENDO OS SINTOMAS, MANTENDO O MEDICAMENTO FORA DO ALCANCE DE CRIANÇAS.TODO MEDICAMENTO DEVE SER MANTIDO FORA DO ALCANCE DAS CRIANÇAS.TODO MEDICAMENTO DEVE SER MANTIDO FORA DO ALCANCE DAS CRIANÇAS.TODO MEDICAMENTO DEVE SER MANTIDO FORA DO ALCANCE DAS CRIANÇAS.TODO MEDICAMENTO DEVE SER MANTIDO FORA DO ALCANCE DAS CRIAN\n"
     ]
    }
   ],
   "source": [
    "make_question(model, \"Onde como e por quanto tempo posso guardar lastacaft?\")"
   ]
  },
  {
   "cell_type": "code",
   "execution_count": 10,
   "metadata": {},
   "outputs": [
    {
     "name": "stdout",
     "output_type": "stream",
     "text": [
      "\n",
      "\n",
      "Lembre-se de que a temperatura máxima de temperatura é de 25ºC. Se o produto for ingerido com um pouco de água, não se deve ingerir o produto. Não use por mais de 12 horas. O prazo de validade é de 24 meses a partir da data de fabricação. Não use medicamento com o prazo de validade vencido.TODO MEDICAMENTO DEVE SER MANTIDO FORA DO ALCANCE DAS CRIANÇAS.TODO MEDICAMENTO DEVE SER MANTIDO FORA DO ALCANCE DAS CRIANÇAS.TODO MEDICAMENTO DEVE SER MANTIDO FORA DO ALCANCE DAS CRIANÇAS. TODO MEDICAMENTO DEVE SER MANTIDO FORA DO ALCANCE DAS CRIANÇAS. TODO MEDICAMENTO DEVE SER MANTIDO FORA DO ALCANCE DAS CRIANÇAS. TODO MEDICAMENTO DEVE\n"
     ]
    }
   ],
   "source": [
    "make_question(model, \"Qual a temperatura em fahrenheit que deve ser armazenado o lastacaft?\")"
   ]
  },
  {
   "cell_type": "code",
   "execution_count": 11,
   "metadata": {},
   "outputs": [
    {
     "name": "stdout",
     "output_type": "stream",
     "text": [
      "\n",
      "\n",
      "LASTACAFT deve ser usado exclusivamente nos olhos. Não deve ser utilizada por mulheres grávidas sem orientação médica. Este produto é de uso exclusivamente externo. Não deve ser usado por pessoas com alergia a qualquer um dos componentes da fórmula. Este produto é de uso exclusivamente externo. Não deve ser utilizado por pessoas com problemas nos olhos. Este produto é de uso exclusivamente externo. Não deve ser ingerido. O LASTACAFT é um produto de uso externo e deve ser usado exclusivamente nos olhos. O LASTACAFT não deve ser ingerido. O LASTACAFT é um produto de uso externo e deve ser usado exclusivamente nos olhos. Não deve ser ingerido por via oral. O LASTACAFT não deve ser ingerido. O LASTACAFT não deve ser ingerido. O LASTACAFT não é indicado para uso nos olhos. O LASTACAFT não é recomendado para uso nos olhos. O LAST\n"
     ]
    }
   ],
   "source": [
    "make_question(model, \"Qual a validade do Lastacaft?\")"
   ]
  },
  {
   "cell_type": "code",
   "execution_count": 13,
   "metadata": {},
   "outputs": [
    {
     "name": "stdout",
     "output_type": "stream",
     "text": [
      "\n",
      "\n",
      "Neosaldina é indicada para o tratamento da dor e da febre, em adultos e crianças com mais de 12 anos de idade. Além disso, Neosaldina também é indicado para o tratamento da dor de cabeça, em adultos e crianças. Além disso, Neosaldina também é indicado para o tratamento da dor de cabeça causada por enxaqueca. Além disso, Neosaldina é indicada para o tratamento da dor de cabeça associada a enxaqueca. Além disso, Neosaldina é indicada para o tratamento da dor de cabeça causada por enxaqueca. Além disso, Neosaldina é indicada para o tratamento da dor de cabeça causada por enxaqueca. Além disso, Neosaldina é indicada para o tratamento da dor de cabeça causada por enxaqueca. Além disso, Neosaldina é indicada para o tratamento da dor de cabeça causada por enxaqueca. Além disso, Neosaldina é indicada\n"
     ]
    }
   ],
   "source": [
    "make_question(model, \"Para que serve Neosaldina?\")"
   ]
  },
  {
   "cell_type": "code",
   "execution_count": 14,
   "metadata": {},
   "outputs": [
    {
     "name": "stdout",
     "output_type": "stream",
     "text": [
      "\n",
      "\n",
      "Histamin (cinafina) é indicado para alívio da coceira, vermelhidão e inchaço causados por alergias, alergias, picadas de insetos, inchaço nas pernas ou pés, vermelhidão na pele ou dor de cabeça. O Histamin é também indicado para o tratamento de sintomas de gripe e resfriado. Além disso, é indicado para o tratamento de sintomas de dor de cabeça associados a gripes e resfriados, dor de dente, dor de garganta, dor nas costas, dor nas costas, dor nas costas, dor nas costas, dor nas costas, dor nas costas, dor nas costas, dor nas costas, dor nas costas, dor nas costas, dor nas costas, dor nas costas, dor nas costas, dor nas costas, dor nas costas, dor nas costas, dor nas costas, dor nas costas, dor nas costas, dor nas costas, dor nas costas, dor nas costas, dor nas costas,\n"
     ]
    }
   ],
   "source": [
    "make_question(model, \"Para que serve Histamin?\")"
   ]
  },
  {
   "cell_type": "code",
   "execution_count": 15,
   "metadata": {},
   "outputs": [
    {
     "name": "stdout",
     "output_type": "stream",
     "text": [
      "\n",
      "\n",
      "A dose recomendada de Histamin é de 50 mg, uma vez ao dia, com ou sem alimentos. Os comprimidos devem ser engolidos inteiros, sem mastigar, com a língua ou com a língua. A dose recomendada de Histamin é de 50 mg, uma vez ao dia, com ou sem alimentos. A dose recomendada de Histamin é de 100 mg, uma vez ao dia, com ou sem alimentos. A dose recomendada de Histamin é de 100 mg, uma vez ao dia, com ou sem alimentos. A dose recomendada de Histamin é de 50 mg, uma vez ao dia, com ou sem alimentos. A dose recomendada de Histamin é de 100 mg, uma vez ao dia, com ou sem alimentos. A dose recomendada de Histamin é de 100 mg, uma vez ao dia, com ou sem alimentos. A dose recomendada de Histamin é de 50 mg, uma vez ao dia, com\n"
     ]
    }
   ],
   "source": [
    "make_question(model, \"Como usar Histamin?\")"
   ]
  },
  {
   "cell_type": "code",
   "execution_count": 16,
   "metadata": {},
   "outputs": [
    {
     "name": "stdout",
     "output_type": "stream",
     "text": [
      "\n",
      "\n",
      "Tranxilene está contraindicado para pacientes com alergia ao Tranilene ou a outros componentes da fórmula. Além disso, também está contraindicado para crianças com menos de 12 anos de idade. Além disso, também está contraindicado para pacientes com historial de alergia a outros medicamentos do grupo dos benzodiazepínicos. Além disso, também está contraindicado para pacientes com historial de alergia a outros medicamentos do grupo dos benzodiazepínicos. Além disso, também está contraindicado para pacientes com historial de dependência a drogas ou de álcool. O Tranilene não deve ser usado em pacientes com problemas de fígado grave, com insuficiência hepática grave ou com insuficiência hepática grave. Além disso, também está contraindicado para pacientes com alergia ao Tranileno ou a outros componentes da fórmula. O Tranilene não deve ser administrado por via\n"
     ]
    }
   ],
   "source": [
    "make_question(model, \"Quando não devo usar Tranxilene?\")"
   ]
  },
  {
   "cell_type": "code",
   "execution_count": 17,
   "metadata": {},
   "outputs": [
    {
     "name": "stdout",
     "output_type": "stream",
     "text": [
      "\n",
      "\n",
      "1 - 2 gotas em cada narina, 3 vezes ao dia. 2 - 3 horas após a administração, 1 vez ao dia. 3 - 4 horas após a administração, 2 vezes ao dia. 4 - 5 horas após a administração, 2 vezes ao dia. 4 - 5 horas após a administração, 2 vezes ao dia. 4 - 5 horas após a administração, 2 vezes ao dia. 6 - 8 horas após a administração, 2 vezes ao dia. 7 - 10 horas após a administração, 2 vezes ao dia. 8 - 10 horas após a administração, 2 vezes ao dia. 1 - 2 horas após a administração, 2 vezes ao dia. 1 - 2 horas após a administração, 2 vezes ao dia. 1 - 2 horas após a administração, 2 vezes ao dia. 1 - 2 horas após a administração, 2\n"
     ]
    }
   ],
   "source": [
    "make_question(model, \"Quanto é 1 + 1?\")"
   ]
  },
  {
   "cell_type": "code",
   "execution_count": 18,
   "metadata": {},
   "outputs": [
    {
     "name": "stdout",
     "output_type": "stream",
     "text": [
      "\n",
      "\n",
      "Dorflex é um medicamento indicado para o tratamento de artrose e osteoartrite, em adultos. Além disso, Dorflex também é indicado para o tratamento de doenças degenerativas do esquelema, como osteoartrite, osteoartrite, osteoartrite, osteoartrite, osteoartrite, osteoartrite, osteoartrite, osteoartrite, osteoartrite, osteoartrite, osteoartrite, osteoartrite, osteoartrite, osteoartrite, osteoartrite, osteoartrite, osteoartrite, osteoartrite, osteoartrite, osteoartrite, osteoartrite, osteoartrite, osteoartrite, osteoartrite, osteoartrite, osteoartrite, osteoartrite, osteoartrite, osteoartrite, osteoartrite, osteoartrite, osteoartrite, osteoartrite,\n"
     ]
    }
   ],
   "source": [
    "make_question(model, \"Dorflex?\")"
   ]
  },
  {
   "cell_type": "code",
   "execution_count": 19,
   "metadata": {},
   "outputs": [
    {
     "name": "stdout",
     "output_type": "stream",
     "text": [
      "\n",
      "\n",
      "Neosaldina é um medicamento indicado para o tratamento da dor e da febre, em adultos. É também indicada para o tratamento da dor associada a processos inflamatórios, como: dor de dente, dor de dente, dor de garganta, dor de dente, dor de garganta, dor de dente, dor de cabeça e dor nas costas. Além disso, Neosaldina é também indicado para o tratamento da dor de dente. - Superdosagem: caso de intoxicação aguda, recomenda-se adotar medidas de suporte. O tratamento deve ser sintomático e de suporte. O tratamento deve ser sintomático e de suporte. Se necessário, o tratamento deve ser repetido. Se a toxicidade persistir, a dose pode ser aumentada para 100 mg/dia. O tratamento deve ser sintomático e de suporte. Se necessário, a dose pode ser aumentada para 200 mg/dia. Se necessário, a dose pode ser aumentada para 400 m\n"
     ]
    }
   ],
   "source": [
    "make_question(model, \"Neosaldina?\")"
   ]
  }
 ],
 "metadata": {
  "kernelspec": {
   "display_name": "py39",
   "language": "python",
   "name": "python3"
  },
  "language_info": {
   "codemirror_mode": {
    "name": "ipython",
    "version": 3
   },
   "file_extension": ".py",
   "mimetype": "text/x-python",
   "name": "python",
   "nbconvert_exporter": "python",
   "pygments_lexer": "ipython3",
   "version": "3.9.18"
  }
 },
 "nbformat": 4,
 "nbformat_minor": 2
}
